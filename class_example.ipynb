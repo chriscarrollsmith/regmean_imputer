{
 "cells": [
  {
   "cell_type": "markdown",
   "metadata": {},
   "source": [
    "# Comparing Imputation Methods\n",
    "\n",
    "In this notebook, we'll compare the performance of two imputation methods on the Titanic dataset:\n",
    "1. Simple Mean Imputation using `SimpleImputer` from `sklearn`.\n",
    "2. Regularized Mean Imputation using our custom `RegularizedMeanImputer`.\n",
    "\n",
    "## Step 1: Import, split, and mask the Titanic Dataset"
   ]
  },
  {
   "cell_type": "code",
   "execution_count": 20,
   "metadata": {},
   "outputs": [],
   "source": [
    "import pandas as pd\n",
    "import numpy as np\n",
    "from sklearn.model_selection import train_test_split\n",
    "from sklearn.metrics import mean_absolute_error\n",
    "from sklearn.impute import SimpleImputer\n",
    "from custom_imputers import RegularizedMeanImputer\n",
    "\n",
    "# Load the Titanic dataset\n",
    "titanic_url = \"https://raw.githubusercontent.com/datasciencedojo/datasets/master/titanic.csv\"\n",
    "titanic_data = pd.read_csv(titanic_url)\n",
    "\n",
    "# Remove NaNs from the Age column\n",
    "titanic_data = titanic_data.dropna(subset=['Age'])\n",
    "\n",
    "# Split the data into training and test sets\n",
    "train_data, test_data = train_test_split(titanic_data, test_size=0.2, random_state=42)\n",
    "\n",
    "# Mask a fraction of the Age column in the test set to simulate missing values\n",
    "mask_fraction = 0.5\n",
    "num_samples = int(mask_fraction * len(test_data))\n",
    "random_samples = test_data['Age'].sample(num_samples).index\n",
    "test_data.loc[random_samples, 'Age'] = np.nan"
   ]
  },
  {
   "cell_type": "markdown",
   "metadata": {},
   "source": [
    "## Step 2: Impute the `Age` Column in the Test Set\n",
    "\n",
    "### 2.1: Using Global Mean with `SimpleImputer`"
   ]
  },
  {
   "cell_type": "code",
   "execution_count": 21,
   "metadata": {},
   "outputs": [],
   "source": [
    "simple_imputer = SimpleImputer(strategy=\"mean\")\n",
    "test_data_simple_imputed = test_data.copy(deep=True)\n",
    "test_data_simple_imputed['Age'] = simple_imputer.fit_transform(test_data[['Age']])"
   ]
  },
  {
   "cell_type": "markdown",
   "metadata": {},
   "source": [
    "### 2.2: Using Regularized Mean with `RegularizedMeanImputer`"
   ]
  },
  {
   "cell_type": "code",
   "execution_count": 31,
   "metadata": {},
   "outputs": [
    {
     "ename": "KeyError",
     "evalue": "'key of type tuple not found and not a MultiIndex'",
     "output_type": "error",
     "traceback": [
      "\u001b[1;31m---------------------------------------------------------------------------\u001b[0m",
      "\u001b[1;31mKeyError\u001b[0m                                  Traceback (most recent call last)",
      "\u001b[1;32mc:\\Users\\chris\\OneDrive\\Documents\\Python\\custom_imputers\\class_example.ipynb Cell 6\u001b[0m line \u001b[0;36m3\n\u001b[0;32m      <a href='vscode-notebook-cell:/c%3A/Users/chris/OneDrive/Documents/Python/custom_imputers/class_example.ipynb#W5sZmlsZQ%3D%3D?line=0'>1</a>\u001b[0m imputer \u001b[39m=\u001b[39m RegularizedMeanImputer(impute_col\u001b[39m=\u001b[39m\u001b[39m'\u001b[39m\u001b[39mAge\u001b[39m\u001b[39m'\u001b[39m, group_by_cols\u001b[39m=\u001b[39m[\u001b[39m'\u001b[39m\u001b[39mPclass\u001b[39m\u001b[39m'\u001b[39m, \u001b[39m'\u001b[39m\u001b[39mSex\u001b[39m\u001b[39m'\u001b[39m], add_indicator\u001b[39m=\u001b[39m\u001b[39mTrue\u001b[39;00m)\n\u001b[0;32m      <a href='vscode-notebook-cell:/c%3A/Users/chris/OneDrive/Documents/Python/custom_imputers/class_example.ipynb#W5sZmlsZQ%3D%3D?line=1'>2</a>\u001b[0m test_data_reg_imputed \u001b[39m=\u001b[39m test_data\u001b[39m.\u001b[39mcopy(deep\u001b[39m=\u001b[39m\u001b[39mTrue\u001b[39;00m)\n\u001b[1;32m----> <a href='vscode-notebook-cell:/c%3A/Users/chris/OneDrive/Documents/Python/custom_imputers/class_example.ipynb#W5sZmlsZQ%3D%3D?line=2'>3</a>\u001b[0m test_data_reg_imputed \u001b[39m=\u001b[39m imputer\u001b[39m.\u001b[39;49mfit_transform(test_data)\n\u001b[0;32m      <a href='vscode-notebook-cell:/c%3A/Users/chris/OneDrive/Documents/Python/custom_imputers/class_example.ipynb#W5sZmlsZQ%3D%3D?line=3'>4</a>\u001b[0m test_data_reg_imputed\u001b[39m.\u001b[39mhead()\n",
      "File \u001b[1;32mc:\\Users\\chris\\OneDrive\\Documents\\Python\\custom_imputers\\.venv\\Lib\\site-packages\\sklearn\\utils\\_set_output.py:157\u001b[0m, in \u001b[0;36m_wrap_method_output.<locals>.wrapped\u001b[1;34m(self, X, *args, **kwargs)\u001b[0m\n\u001b[0;32m    155\u001b[0m \u001b[39m@wraps\u001b[39m(f)\n\u001b[0;32m    156\u001b[0m \u001b[39mdef\u001b[39;00m \u001b[39mwrapped\u001b[39m(\u001b[39mself\u001b[39m, X, \u001b[39m*\u001b[39margs, \u001b[39m*\u001b[39m\u001b[39m*\u001b[39mkwargs):\n\u001b[1;32m--> 157\u001b[0m     data_to_wrap \u001b[39m=\u001b[39m f(\u001b[39mself\u001b[39;49m, X, \u001b[39m*\u001b[39;49margs, \u001b[39m*\u001b[39;49m\u001b[39m*\u001b[39;49mkwargs)\n\u001b[0;32m    158\u001b[0m     \u001b[39mif\u001b[39;00m \u001b[39misinstance\u001b[39m(data_to_wrap, \u001b[39mtuple\u001b[39m):\n\u001b[0;32m    159\u001b[0m         \u001b[39m# only wrap the first output for cross decomposition\u001b[39;00m\n\u001b[0;32m    160\u001b[0m         return_tuple \u001b[39m=\u001b[39m (\n\u001b[0;32m    161\u001b[0m             _wrap_data_with_container(method, data_to_wrap[\u001b[39m0\u001b[39m], X, \u001b[39mself\u001b[39m),\n\u001b[0;32m    162\u001b[0m             \u001b[39m*\u001b[39mdata_to_wrap[\u001b[39m1\u001b[39m:],\n\u001b[0;32m    163\u001b[0m         )\n",
      "File \u001b[1;32mc:\\Users\\chris\\OneDrive\\Documents\\Python\\custom_imputers\\.venv\\Lib\\site-packages\\sklearn\\base.py:916\u001b[0m, in \u001b[0;36mTransformerMixin.fit_transform\u001b[1;34m(self, X, y, **fit_params)\u001b[0m\n\u001b[0;32m    912\u001b[0m \u001b[39m# non-optimized default implementation; override when a better\u001b[39;00m\n\u001b[0;32m    913\u001b[0m \u001b[39m# method is possible for a given clustering algorithm\u001b[39;00m\n\u001b[0;32m    914\u001b[0m \u001b[39mif\u001b[39;00m y \u001b[39mis\u001b[39;00m \u001b[39mNone\u001b[39;00m:\n\u001b[0;32m    915\u001b[0m     \u001b[39m# fit method of arity 1 (unsupervised transformation)\u001b[39;00m\n\u001b[1;32m--> 916\u001b[0m     \u001b[39mreturn\u001b[39;00m \u001b[39mself\u001b[39;49m\u001b[39m.\u001b[39;49mfit(X, \u001b[39m*\u001b[39;49m\u001b[39m*\u001b[39;49mfit_params)\u001b[39m.\u001b[39;49mtransform(X)\n\u001b[0;32m    917\u001b[0m \u001b[39melse\u001b[39;00m:\n\u001b[0;32m    918\u001b[0m     \u001b[39m# fit method of arity 2 (supervised transformation)\u001b[39;00m\n\u001b[0;32m    919\u001b[0m     \u001b[39mreturn\u001b[39;00m \u001b[39mself\u001b[39m\u001b[39m.\u001b[39mfit(X, y, \u001b[39m*\u001b[39m\u001b[39m*\u001b[39mfit_params)\u001b[39m.\u001b[39mtransform(X)\n",
      "File \u001b[1;32mc:\\Users\\chris\\OneDrive\\Documents\\Python\\custom_imputers\\.venv\\Lib\\site-packages\\sklearn\\utils\\_set_output.py:157\u001b[0m, in \u001b[0;36m_wrap_method_output.<locals>.wrapped\u001b[1;34m(self, X, *args, **kwargs)\u001b[0m\n\u001b[0;32m    155\u001b[0m \u001b[39m@wraps\u001b[39m(f)\n\u001b[0;32m    156\u001b[0m \u001b[39mdef\u001b[39;00m \u001b[39mwrapped\u001b[39m(\u001b[39mself\u001b[39m, X, \u001b[39m*\u001b[39margs, \u001b[39m*\u001b[39m\u001b[39m*\u001b[39mkwargs):\n\u001b[1;32m--> 157\u001b[0m     data_to_wrap \u001b[39m=\u001b[39m f(\u001b[39mself\u001b[39;49m, X, \u001b[39m*\u001b[39;49margs, \u001b[39m*\u001b[39;49m\u001b[39m*\u001b[39;49mkwargs)\n\u001b[0;32m    158\u001b[0m     \u001b[39mif\u001b[39;00m \u001b[39misinstance\u001b[39m(data_to_wrap, \u001b[39mtuple\u001b[39m):\n\u001b[0;32m    159\u001b[0m         \u001b[39m# only wrap the first output for cross decomposition\u001b[39;00m\n\u001b[0;32m    160\u001b[0m         return_tuple \u001b[39m=\u001b[39m (\n\u001b[0;32m    161\u001b[0m             _wrap_data_with_container(method, data_to_wrap[\u001b[39m0\u001b[39m], X, \u001b[39mself\u001b[39m),\n\u001b[0;32m    162\u001b[0m             \u001b[39m*\u001b[39mdata_to_wrap[\u001b[39m1\u001b[39m:],\n\u001b[0;32m    163\u001b[0m         )\n",
      "File \u001b[1;32mc:\\Users\\chris\\OneDrive\\Documents\\Python\\custom_imputers\\custom_imputers\\RegularizedMeanImputer.py:220\u001b[0m, in \u001b[0;36mRegularizedMeanImputer.transform\u001b[1;34m(self, X)\u001b[0m\n\u001b[0;32m    217\u001b[0m X_imputed \u001b[39m=\u001b[39m X\u001b[39m.\u001b[39mcopy(deep\u001b[39m=\u001b[39m\u001b[39mTrue\u001b[39;00m)\n\u001b[0;32m    218\u001b[0m X_imputed\u001b[39m.\u001b[39mloc[mask, \u001b[39mself\u001b[39m\u001b[39m.\u001b[39mimpute_col] \u001b[39m=\u001b[39m regularized_means[mask]\n\u001b[1;32m--> 220\u001b[0m X_indicator \u001b[39m=\u001b[39m \u001b[39msuper\u001b[39;49m()\u001b[39m.\u001b[39;49m_transform_indicator(mask)\n\u001b[0;32m    221\u001b[0m \u001b[39mreturn\u001b[39;00m \u001b[39msuper\u001b[39m()\u001b[39m.\u001b[39m_concatenate_indicator(X_imputed, X_indicator)\n",
      "File \u001b[1;32mc:\\Users\\chris\\OneDrive\\Documents\\Python\\custom_imputers\\.venv\\Lib\\site-packages\\sklearn\\impute\\_base.py:111\u001b[0m, in \u001b[0;36m_BaseImputer._transform_indicator\u001b[1;34m(self, X)\u001b[0m\n\u001b[0;32m    107\u001b[0m \u001b[39mif\u001b[39;00m \u001b[39mnot\u001b[39;00m \u001b[39mhasattr\u001b[39m(\u001b[39mself\u001b[39m, \u001b[39m\"\u001b[39m\u001b[39mindicator_\u001b[39m\u001b[39m\"\u001b[39m):\n\u001b[0;32m    108\u001b[0m     \u001b[39mraise\u001b[39;00m \u001b[39mValueError\u001b[39;00m(\n\u001b[0;32m    109\u001b[0m         \u001b[39m\"\u001b[39m\u001b[39mMake sure to call _fit_indicator before _transform_indicator\u001b[39m\u001b[39m\"\u001b[39m\n\u001b[0;32m    110\u001b[0m     )\n\u001b[1;32m--> 111\u001b[0m \u001b[39mreturn\u001b[39;00m \u001b[39mself\u001b[39;49m\u001b[39m.\u001b[39;49mindicator_\u001b[39m.\u001b[39;49mtransform(X)\n",
      "File \u001b[1;32mc:\\Users\\chris\\OneDrive\\Documents\\Python\\custom_imputers\\.venv\\Lib\\site-packages\\sklearn\\utils\\_set_output.py:157\u001b[0m, in \u001b[0;36m_wrap_method_output.<locals>.wrapped\u001b[1;34m(self, X, *args, **kwargs)\u001b[0m\n\u001b[0;32m    155\u001b[0m \u001b[39m@wraps\u001b[39m(f)\n\u001b[0;32m    156\u001b[0m \u001b[39mdef\u001b[39;00m \u001b[39mwrapped\u001b[39m(\u001b[39mself\u001b[39m, X, \u001b[39m*\u001b[39margs, \u001b[39m*\u001b[39m\u001b[39m*\u001b[39mkwargs):\n\u001b[1;32m--> 157\u001b[0m     data_to_wrap \u001b[39m=\u001b[39m f(\u001b[39mself\u001b[39;49m, X, \u001b[39m*\u001b[39;49margs, \u001b[39m*\u001b[39;49m\u001b[39m*\u001b[39;49mkwargs)\n\u001b[0;32m    158\u001b[0m     \u001b[39mif\u001b[39;00m \u001b[39misinstance\u001b[39m(data_to_wrap, \u001b[39mtuple\u001b[39m):\n\u001b[0;32m    159\u001b[0m         \u001b[39m# only wrap the first output for cross decomposition\u001b[39;00m\n\u001b[0;32m    160\u001b[0m         return_tuple \u001b[39m=\u001b[39m (\n\u001b[0;32m    161\u001b[0m             _wrap_data_with_container(method, data_to_wrap[\u001b[39m0\u001b[39m], X, \u001b[39mself\u001b[39m),\n\u001b[0;32m    162\u001b[0m             \u001b[39m*\u001b[39mdata_to_wrap[\u001b[39m1\u001b[39m:],\n\u001b[0;32m    163\u001b[0m         )\n",
      "File \u001b[1;32mc:\\Users\\chris\\OneDrive\\Documents\\Python\\custom_imputers\\.venv\\Lib\\site-packages\\sklearn\\impute\\_base.py:990\u001b[0m, in \u001b[0;36mMissingIndicator.transform\u001b[1;34m(self, X)\u001b[0m\n\u001b[0;32m    983\u001b[0m         \u001b[39mraise\u001b[39;00m \u001b[39mValueError\u001b[39;00m(\n\u001b[0;32m    984\u001b[0m             \u001b[39m\"\u001b[39m\u001b[39mThe features \u001b[39m\u001b[39m{}\u001b[39;00m\u001b[39m have missing values \u001b[39m\u001b[39m\"\u001b[39m\n\u001b[0;32m    985\u001b[0m             \u001b[39m\"\u001b[39m\u001b[39min transform but have no missing values \u001b[39m\u001b[39m\"\u001b[39m\n\u001b[0;32m    986\u001b[0m             \u001b[39m\"\u001b[39m\u001b[39min fit.\u001b[39m\u001b[39m\"\u001b[39m\u001b[39m.\u001b[39mformat(features_diff_fit_trans)\n\u001b[0;32m    987\u001b[0m         )\n\u001b[0;32m    989\u001b[0m     \u001b[39mif\u001b[39;00m \u001b[39mself\u001b[39m\u001b[39m.\u001b[39mfeatures_\u001b[39m.\u001b[39msize \u001b[39m<\u001b[39m \u001b[39mself\u001b[39m\u001b[39m.\u001b[39m_n_features:\n\u001b[1;32m--> 990\u001b[0m         imputer_mask \u001b[39m=\u001b[39m imputer_mask[:, \u001b[39mself\u001b[39;49m\u001b[39m.\u001b[39;49mfeatures_]\n\u001b[0;32m    992\u001b[0m \u001b[39mreturn\u001b[39;00m imputer_mask\n",
      "File \u001b[1;32mc:\\Users\\chris\\OneDrive\\Documents\\Python\\custom_imputers\\.venv\\Lib\\site-packages\\pandas\\core\\series.py:1072\u001b[0m, in \u001b[0;36mSeries.__getitem__\u001b[1;34m(self, key)\u001b[0m\n\u001b[0;32m   1069\u001b[0m     key \u001b[39m=\u001b[39m np\u001b[39m.\u001b[39masarray(key, dtype\u001b[39m=\u001b[39m\u001b[39mbool\u001b[39m)\n\u001b[0;32m   1070\u001b[0m     \u001b[39mreturn\u001b[39;00m \u001b[39mself\u001b[39m\u001b[39m.\u001b[39m_get_rows_with_mask(key)\n\u001b[1;32m-> 1072\u001b[0m \u001b[39mreturn\u001b[39;00m \u001b[39mself\u001b[39;49m\u001b[39m.\u001b[39;49m_get_with(key)\n",
      "File \u001b[1;32mc:\\Users\\chris\\OneDrive\\Documents\\Python\\custom_imputers\\.venv\\Lib\\site-packages\\pandas\\core\\series.py:1082\u001b[0m, in \u001b[0;36mSeries._get_with\u001b[1;34m(self, key)\u001b[0m\n\u001b[0;32m   1077\u001b[0m     \u001b[39mraise\u001b[39;00m \u001b[39mTypeError\u001b[39;00m(\n\u001b[0;32m   1078\u001b[0m         \u001b[39m\"\u001b[39m\u001b[39mIndexing a Series with DataFrame is not \u001b[39m\u001b[39m\"\u001b[39m\n\u001b[0;32m   1079\u001b[0m         \u001b[39m\"\u001b[39m\u001b[39msupported, use the appropriate DataFrame column\u001b[39m\u001b[39m\"\u001b[39m\n\u001b[0;32m   1080\u001b[0m     )\n\u001b[0;32m   1081\u001b[0m \u001b[39melif\u001b[39;00m \u001b[39misinstance\u001b[39m(key, \u001b[39mtuple\u001b[39m):\n\u001b[1;32m-> 1082\u001b[0m     \u001b[39mreturn\u001b[39;00m \u001b[39mself\u001b[39;49m\u001b[39m.\u001b[39;49m_get_values_tuple(key)\n\u001b[0;32m   1084\u001b[0m \u001b[39melif\u001b[39;00m \u001b[39mnot\u001b[39;00m is_list_like(key):\n\u001b[0;32m   1085\u001b[0m     \u001b[39m# e.g. scalars that aren't recognized by lib.is_scalar, GH#32684\u001b[39;00m\n\u001b[0;32m   1086\u001b[0m     \u001b[39mreturn\u001b[39;00m \u001b[39mself\u001b[39m\u001b[39m.\u001b[39mloc[key]\n",
      "File \u001b[1;32mc:\\Users\\chris\\OneDrive\\Documents\\Python\\custom_imputers\\.venv\\Lib\\site-packages\\pandas\\core\\series.py:1126\u001b[0m, in \u001b[0;36mSeries._get_values_tuple\u001b[1;34m(self, key)\u001b[0m\n\u001b[0;32m   1123\u001b[0m     \u001b[39mreturn\u001b[39;00m result\n\u001b[0;32m   1125\u001b[0m \u001b[39mif\u001b[39;00m \u001b[39mnot\u001b[39;00m \u001b[39misinstance\u001b[39m(\u001b[39mself\u001b[39m\u001b[39m.\u001b[39mindex, MultiIndex):\n\u001b[1;32m-> 1126\u001b[0m     \u001b[39mraise\u001b[39;00m \u001b[39mKeyError\u001b[39;00m(\u001b[39m\"\u001b[39m\u001b[39mkey of type tuple not found and not a MultiIndex\u001b[39m\u001b[39m\"\u001b[39m)\n\u001b[0;32m   1128\u001b[0m \u001b[39m# If key is contained, would have returned by now\u001b[39;00m\n\u001b[0;32m   1129\u001b[0m indexer, new_index \u001b[39m=\u001b[39m \u001b[39mself\u001b[39m\u001b[39m.\u001b[39mindex\u001b[39m.\u001b[39mget_loc_level(key)\n",
      "\u001b[1;31mKeyError\u001b[0m: 'key of type tuple not found and not a MultiIndex'"
     ]
    }
   ],
   "source": [
    "imputer = RegularizedMeanImputer(impute_col='Age', group_by_cols=['Pclass', 'Sex'], add_indicator=True)\n",
    "test_data_reg_imputed = test_data.copy(deep=True)\n",
    "test_data_reg_imputed = imputer.fit_transform(test_data)\n",
    "test_data_reg_imputed.head()\n"
   ]
  },
  {
   "cell_type": "markdown",
   "metadata": {},
   "source": [
    "## Step 3: Compare the Accuracy of Both Imputation Methods\n",
    "\n",
    "By examining the MAE values, we can determine which imputation method is more accurate. This will give us insights into the performance of the two methods when dealing with real-world missing data scenarios."
   ]
  },
  {
   "cell_type": "code",
   "execution_count": 18,
   "metadata": {},
   "outputs": [
    {
     "name": "stdout",
     "output_type": "stream",
     "text": [
      "MAE using Simple Imputer: 11.862676056338028\n",
      "MAE using RegularizedMeanImputer: 11.09385874220467\n"
     ]
    }
   ],
   "source": [
    "# Compute the Mean Absolute Error (MAE) for both imputation methods\n",
    "original_ages = titanic_data.loc[random_samples, 'Age']\n",
    "mae_simple = mean_absolute_error(original_ages, test_data_simple_imputed['Age'].loc[random_samples])\n",
    "mae_regularized = mean_absolute_error(original_ages, test_data_reg_imputed['Age'].loc[random_samples])\n",
    "\n",
    "print(f\"MAE using Simple Imputer: {mae_simple}\")\n",
    "print(f\"MAE using RegularizedMeanImputer: {mae_regularized}\")"
   ]
  },
  {
   "cell_type": "markdown",
   "metadata": {},
   "source": [
    "Regularized mean imputation significantly outperforms global mean imputation."
   ]
  }
 ],
 "metadata": {
  "kernelspec": {
   "display_name": ".venv",
   "language": "python",
   "name": "python3"
  },
  "language_info": {
   "codemirror_mode": {
    "name": "ipython",
    "version": 3
   },
   "file_extension": ".py",
   "mimetype": "text/x-python",
   "name": "python",
   "nbconvert_exporter": "python",
   "pygments_lexer": "ipython3",
   "version": "3.11.5"
  }
 },
 "nbformat": 4,
 "nbformat_minor": 2
}
