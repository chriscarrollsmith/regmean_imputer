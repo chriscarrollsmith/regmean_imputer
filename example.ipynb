{
 "cells": [
  {
   "cell_type": "markdown",
   "metadata": {},
   "source": [
    "# Comparing Imputation Methods\n",
    "\n",
    "1. Import necessary libraries and the Titanic dataset.\n",
    "2. Split the dataset into train and test sets.\n",
    "3. Impute the `Age` column in the test set using global mean and regularized mean.\n",
    "4. Compare the accuracy of both imputation methods.\n",
    "\n",
    "## Step 1: Import, split, and mask the Titanic Dataset"
   ]
  },
  {
   "cell_type": "code",
   "execution_count": 5,
   "metadata": {},
   "outputs": [],
   "source": [
    "import pandas as pd\n",
    "import numpy as np\n",
    "from sklearn.model_selection import train_test_split\n",
    "from sklearn.metrics import mean_absolute_error\n",
    "\n",
    "# Load the Titanic dataset\n",
    "titanic_url = \"https://raw.githubusercontent.com/datasciencedojo/datasets/master/titanic.csv\"\n",
    "titanic_data = pd.read_csv(titanic_url)\n",
    "\n",
    "# Remove NaNs from the Age column\n",
    "titanic_data = titanic_data.dropna(subset=['Age'])\n",
    "\n",
    "# Split the data into training and test sets\n",
    "train_data, test_data = train_test_split(titanic_data, test_size=0.2, random_state=42)\n",
    "\n",
    "# Mask a fraction of the Age column in the test set to simulate missing values\n",
    "mask_fraction = 0.5\n",
    "num_samples = int(mask_fraction * len(test_data))\n",
    "random_samples = test_data['Age'].sample(num_samples).index\n",
    "test_data.loc[random_samples, 'Age'] = np.nan"
   ]
  },
  {
   "cell_type": "markdown",
   "metadata": {},
   "source": [
    "## Step 2: Impute the `Age` Column in the Test Set\n",
    "\n",
    "### 2.1: Using Global Mean"
   ]
  },
  {
   "cell_type": "code",
   "execution_count": 6,
   "metadata": {},
   "outputs": [],
   "source": [
    "# Compute the global mean from the training set\n",
    "global_mean_age = train_data['Age'].mean()\n",
    "\n",
    "# Impute the masked test set using the global mean\n",
    "test_data_global_mean = test_data.copy()\n",
    "test_data_global_mean['Age'] = test_data_global_mean['Age'].fillna(global_mean_age)\n",
    "\n",
    "# Ensure that there are no missing values in the imputed test set\n",
    "assert test_data_global_mean['Age'].isnull().sum() == 0"
   ]
  },
  {
   "cell_type": "markdown",
   "metadata": {},
   "source": [
    "### 2.2: Using Regularized Mean with `impute_column` function"
   ]
  },
  {
   "cell_type": "code",
   "execution_count": 7,
   "metadata": {},
   "outputs": [
    {
     "name": "stdout",
     "output_type": "stream",
     "text": [
      "Best regularization parameter for Age: 8\n"
     ]
    }
   ],
   "source": [
    "from regmean_imputer import impute_column\n",
    "\n",
    "# Impute the masked test set using the regularized mean\n",
    "test_data_regularized_mean = impute_column(data=test_data, impute_col='Age', group_by_cols=['Pclass', 'Sex'])\n",
    "\n",
    "# Ensure that there are no missing values in the imputed test set\n",
    "assert test_data_regularized_mean['Age'].isnull().sum() == 0"
   ]
  },
  {
   "cell_type": "markdown",
   "metadata": {},
   "source": [
    "## Step 3: Compare the Accuracy of Both Imputation Methods"
   ]
  },
  {
   "cell_type": "code",
   "execution_count": 8,
   "metadata": {},
   "outputs": [
    {
     "name": "stdout",
     "output_type": "stream",
     "text": [
      "MAE using Global Mean: 11.419547865124192\n",
      "MAE using Regularized Mean: 10.239185871309381\n"
     ]
    }
   ],
   "source": [
    "# Compute the Mean Absolute Error (MAE) for both imputation methods\n",
    "original_ages = titanic_data.loc[random_samples, 'Age']\n",
    "mae_global_mean = mean_absolute_error(original_ages, test_data_global_mean['Age'].loc[random_samples])\n",
    "mae_regularized_mean = mean_absolute_error(original_ages, test_data_regularized_mean['Age'].loc[random_samples])\n",
    "\n",
    "print(f\"MAE using Global Mean: {mae_global_mean}\")\n",
    "print(f\"MAE using Regularized Mean: {mae_regularized_mean}\")"
   ]
  },
  {
   "cell_type": "markdown",
   "metadata": {},
   "source": [
    "Regularized mean imputation outperforms global mean imputation."
   ]
  }
 ],
 "metadata": {
  "kernelspec": {
   "display_name": ".venv",
   "language": "python",
   "name": "python3"
  },
  "language_info": {
   "codemirror_mode": {
    "name": "ipython",
    "version": 3
   },
   "file_extension": ".py",
   "mimetype": "text/x-python",
   "name": "python",
   "nbconvert_exporter": "python",
   "pygments_lexer": "ipython3",
   "version": "3.11.5"
  }
 },
 "nbformat": 4,
 "nbformat_minor": 2
}
