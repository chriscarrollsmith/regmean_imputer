{
 "cells": [
  {
   "cell_type": "markdown",
   "metadata": {},
   "source": [
    "# Comparing Imputation Methods\n",
    "\n",
    "1. Import necessary libraries and the Titanic dataset.\n",
    "2. Split the dataset into train and test sets.\n",
    "3. Impute the `Age` column in the test set using global mean and regularized mean.\n",
    "4. Compare the accuracy of both imputation methods.\n",
    "\n",
    "## Step 1: Import the Titanic Dataset"
   ]
  },
  {
   "cell_type": "code",
   "execution_count": 1,
   "metadata": {},
   "outputs": [],
   "source": [
    "import pandas as pd\n",
    "import numpy as np\n",
    "from sklearn.model_selection import train_test_split\n",
    "from sklearn.metrics import mean_absolute_error\n",
    "from regmean_imputer import impute_column\n",
    "\n",
    "# Load the Titanic dataset\n",
    "titanic_url = \"https://raw.githubusercontent.com/datasciencedojo/datasets/master/titanic.csv\"\n",
    "titanic_data = pd.read_csv(titanic_url)\n",
    "\n",
    "# Remove NaNs from the Age column\n",
    "titanic_data = titanic_data.dropna(subset=['Age'])"
   ]
  },
  {
   "cell_type": "markdown",
   "metadata": {},
   "source": [
    "## Step 2: Split, Mask, and Impute the `Age` Column in the Test Set"
   ]
  },
  {
   "cell_type": "code",
   "execution_count": 3,
   "metadata": {},
   "outputs": [
    {
     "name": "stdout",
     "output_type": "stream",
     "text": [
      "Best regularization parameter for Age: 6\n",
      "Best regularization parameter for Age: 6\n",
      "Best regularization parameter for Age: 5\n",
      "Best regularization parameter for Age: 9\n",
      "Best regularization parameter for Age: 8\n",
      "Best regularization parameter for Age: 5\n",
      "Best regularization parameter for Age: 2\n",
      "Best regularization parameter for Age: 2\n",
      "Best regularization parameter for Age: 3\n",
      "Best regularization parameter for Age: 1\n",
      "Best regularization parameter for Age: 5\n",
      "Best regularization parameter for Age: 1\n",
      "Best regularization parameter for Age: 2\n",
      "Best regularization parameter for Age: 3\n",
      "Best regularization parameter for Age: 7\n",
      "Best regularization parameter for Age: 5\n",
      "Best regularization parameter for Age: 3\n",
      "Best regularization parameter for Age: 7\n",
      "Best regularization parameter for Age: 9\n",
      "Best regularization parameter for Age: 7\n"
     ]
    }
   ],
   "source": [
    "n_repeats = 20\n",
    "mae_global_mean_list = []\n",
    "mae_regularized_mean_list = []\n",
    "\n",
    "for _ in range(n_repeats):\n",
    "    # Split the data into training and test sets\n",
    "    train_data, test_data = train_test_split(titanic_data, test_size=0.2)\n",
    "    \n",
    "    # Copy test_data and convert all Age values to NaNs\n",
    "    original_ages = test_data['Age'].copy(deep=True)\n",
    "    test_data['Age'] = np.nan\n",
    "\n",
    "    # Impute the 'Age' column in the train and test sets using the regularized mean\n",
    "    imputed_train_data, imputed_test_data = impute_column(train_data=train_data, test_data=test_data, impute_col='Age', group_by_cols=['Pclass', 'Sex'])\n",
    "\n",
    "    # Impute the 'Age' column in the test set using the global mean\n",
    "    global_mean_imputed_test_data = test_data.copy()\n",
    "    global_mean_imputed_test_data['Age'] = global_mean_imputed_test_data['Age'].fillna(train_data['Age'].mean())\n",
    "\n",
    "    # Compute the Mean Absolute Error (MAE) for both imputation methods\n",
    "    mae_global_mean = mean_absolute_error(original_ages, global_mean_imputed_test_data['Age'])\n",
    "    mae_regularized_mean = mean_absolute_error(original_ages, imputed_test_data['Age'])\n",
    "\n",
    "    mae_global_mean_list.append(mae_global_mean)\n",
    "    mae_regularized_mean_list.append(mae_regularized_mean)"
   ]
  },
  {
   "cell_type": "markdown",
   "metadata": {},
   "source": [
    "## Step 3: Compare the Accuracy of Both Imputation Methods"
   ]
  },
  {
   "cell_type": "code",
   "execution_count": 4,
   "metadata": {},
   "outputs": [
    {
     "name": "stdout",
     "output_type": "stream",
     "text": [
      "Mean MAE using Global Mean over 20 repeats: 11.61663940087933\n",
      "Mean MAE using Regularized Mean over 20 repeats: 10.6332905160187\n"
     ]
    }
   ],
   "source": [
    "# Compute the mean MAE for both imputation methods\n",
    "mean_mae_global_mean = np.mean(mae_global_mean_list)\n",
    "mean_mae_regularized_mean = np.mean(mae_regularized_mean_list)\n",
    "\n",
    "print(f\"Mean MAE using Global Mean over {n_repeats} repeats: {mean_mae_global_mean}\")\n",
    "print(f\"Mean MAE using Regularized Mean over {n_repeats} repeats: {mean_mae_regularized_mean}\")"
   ]
  },
  {
   "cell_type": "markdown",
   "metadata": {},
   "source": [
    "Regularized mean imputation performs better than global mean imputation, reducing error by nearly 10%."
   ]
  }
 ],
 "metadata": {
  "kernelspec": {
   "display_name": ".venv",
   "language": "python",
   "name": "python3"
  },
  "language_info": {
   "codemirror_mode": {
    "name": "ipython",
    "version": 3
   },
   "file_extension": ".py",
   "mimetype": "text/x-python",
   "name": "python",
   "nbconvert_exporter": "python",
   "pygments_lexer": "ipython3",
   "version": "3.11.5"
  }
 },
 "nbformat": 4,
 "nbformat_minor": 2
}
